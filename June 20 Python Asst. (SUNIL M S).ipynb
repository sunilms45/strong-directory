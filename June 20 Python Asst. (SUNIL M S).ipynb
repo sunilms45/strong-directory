{
 "cells": [
  {
   "cell_type": "code",
   "execution_count": 2,
   "id": "7bae27ac",
   "metadata": {},
   "outputs": [],
   "source": [
    "# 1) Simple Message: Store a message in a variable, and then print that message. "
   ]
  },
  {
   "cell_type": "code",
   "execution_count": 3,
   "id": "a0785b46",
   "metadata": {},
   "outputs": [
    {
     "name": "stdout",
     "output_type": "stream",
     "text": [
      "Hi Topmentor\n"
     ]
    }
   ],
   "source": [
    "x = 'Hi Topmentor'\n",
    "print(x)"
   ]
  },
  {
   "cell_type": "code",
   "execution_count": null,
   "id": "4e49a783",
   "metadata": {},
   "outputs": [],
   "source": [
    "# 2) Store a message in a variable and print that message. \n",
    "#    Then change the value of your variable to a new message and print the new message"
   ]
  },
  {
   "cell_type": "code",
   "execution_count": 4,
   "id": "eb29a589",
   "metadata": {},
   "outputs": [
    {
     "name": "stdout",
     "output_type": "stream",
     "text": [
      "Learning programming language is hard for degree students\n"
     ]
    },
    {
     "ename": "NameError",
     "evalue": "name 's' is not defined",
     "output_type": "error",
     "traceback": [
      "\u001b[1;31m---------------------------------------------------------------------------\u001b[0m",
      "\u001b[1;31mNameError\u001b[0m                                 Traceback (most recent call last)",
      "Input \u001b[1;32mIn [4]\u001b[0m, in \u001b[0;36m<cell line: 3>\u001b[1;34m()\u001b[0m\n\u001b[0;32m      1\u001b[0m a\u001b[38;5;241m=\u001b[39m\u001b[38;5;124m'\u001b[39m\u001b[38;5;124mLearning programming language is hard for degree students\u001b[39m\u001b[38;5;124m'\u001b[39m\n\u001b[0;32m      2\u001b[0m \u001b[38;5;28mprint\u001b[39m(a)\n\u001b[1;32m----> 3\u001b[0m a1\u001b[38;5;241m=\u001b[39m\u001b[43ms\u001b[49m\u001b[38;5;241m.\u001b[39mreplace(\u001b[38;5;124m'\u001b[39m\u001b[38;5;124mhard\u001b[39m\u001b[38;5;124m'\u001b[39m,\u001b[38;5;124m'\u001b[39m\u001b[38;5;124measy\u001b[39m\u001b[38;5;124m'\u001b[39m)\n\u001b[0;32m      4\u001b[0m \u001b[38;5;28mprint\u001b[39m(a1)\n",
      "\u001b[1;31mNameError\u001b[0m: name 's' is not defined"
     ]
    }
   ],
   "source": [
    "a='Learning programming language is hard for degree students'\n",
    "print(a)\n",
    "a1=s.replace('hard','easy')\n",
    "print(a1)"
   ]
  },
  {
   "cell_type": "code",
   "execution_count": 5,
   "id": "134c7439",
   "metadata": {},
   "outputs": [
    {
     "name": "stdout",
     "output_type": "stream",
     "text": [
      "Learning programming language is hard for degree students\n",
      "Learning programming language is easy for degree students\n"
     ]
    }
   ],
   "source": [
    "a='Learning programming language is hard for degree students'\n",
    "print(a)\n",
    "a1=a.replace('hard','easy')\n",
    "print(a1)"
   ]
  },
  {
   "cell_type": "code",
   "execution_count": null,
   "id": "4395f1ec",
   "metadata": {},
   "outputs": [],
   "source": [
    "# 3) Store a person’s name in a variable and print a message to that person. Your message should be simple, such as,\n",
    "   #“Hello Eric, would you like to learn some Python today?” "
   ]
  },
  {
   "cell_type": "code",
   "execution_count": 6,
   "id": "1a4dffdb",
   "metadata": {},
   "outputs": [
    {
     "name": "stdout",
     "output_type": "stream",
     "text": [
      "Hello  dany would you like to learn some Python today\n"
     ]
    }
   ],
   "source": [
    "name='dany'\n",
    "b= 'Hello  '\n",
    "c= ' would you like to learn some Python today'\n",
    "print(b + name + c)"
   ]
  },
  {
   "cell_type": "code",
   "execution_count": null,
   "id": "111a940a",
   "metadata": {},
   "outputs": [],
   "source": [
    "# 4)  Find a quote from a famous person you admire. Print the quote and the name of its author. \n",
    "#     Your output should look something like the following, including the quotation marks: \n",
    "#     Albert Einstein once said, “A person who never made a mistake never tried anything new.” \n",
    "    \n",
    "# 5) Repeat Exercise 4, but this time store the famous person’s name in a variable called famous_person. \n",
    "#    Then compose your message and store it in a new variable called message. Print your message.    "
   ]
  },
  {
   "cell_type": "code",
   "execution_count": 7,
   "id": "88cb19c4",
   "metadata": {},
   "outputs": [
    {
     "name": "stdout",
     "output_type": "stream",
     "text": [
      "APJ Abdul Kalam said that,  \"If you fail never give up because \"F.A.I.L\" means First Attempt In Learning\"\n"
     ]
    }
   ],
   "source": [
    "y = 'APJ Abdul Kalam said that,' \n",
    "z = '  \"If you fail never give up because \"F.A.I.L\" means First Attempt In Learning\"'\n",
    "print(y + z)"
   ]
  },
  {
   "cell_type": "code",
   "execution_count": null,
   "id": "64f4b409",
   "metadata": {},
   "outputs": [],
   "source": [
    " # 6) Write addition, subtraction, multiplication, and division operations that each result in the number 8. \n",
    " #    Be sure to enclose your operations in print statements to see the results. \n",
    " #    You should create four lines that look like this:    \n",
    " #    print (5 + 3) Your output should simply be four lines with the number 8 appearing once on each line. "
   ]
  },
  {
   "cell_type": "code",
   "execution_count": 8,
   "id": "238caf96",
   "metadata": {},
   "outputs": [
    {
     "name": "stdout",
     "output_type": "stream",
     "text": [
      "8\n",
      "8\n",
      "8\n",
      "8.0\n"
     ]
    }
   ],
   "source": [
    "print(5+3)\n",
    "print(12-4)\n",
    "print(2*4)\n",
    "print(16/2)"
   ]
  },
  {
   "cell_type": "code",
   "execution_count": null,
   "id": "fcf0f327",
   "metadata": {},
   "outputs": [],
   "source": [
    "# 7) Store your favourite number in a variable. Then, using that variable, create a message that reveals your favourite number.\n",
    "#    Print that message. "
   ]
  },
  {
   "cell_type": "code",
   "execution_count": 9,
   "id": "71087be5",
   "metadata": {},
   "outputs": [
    {
     "name": "stdout",
     "output_type": "stream",
     "text": [
      "My favorate number is 7.\n"
     ]
    }
   ],
   "source": [
    "fav_num = 7\n",
    "msg = f'My favorate number is {fav_num}.'\n",
    "print (msg)"
   ]
  },
  {
   "cell_type": "code",
   "execution_count": null,
   "id": "da83ebe5",
   "metadata": {},
   "outputs": [],
   "source": [
    "# 8) Choose two of the programs you’ve written and add at least one comment to each.\n",
    "#    If you don’t have anything specific to write because your programs are too simple at this point,\n",
    "#    just add your name and the current date at the top of each program file. \n",
    "#    Then write one sentence describing what the program does."
   ]
  },
  {
   "cell_type": "code",
   "execution_count": null,
   "id": "c3213627",
   "metadata": {},
   "outputs": [],
   "source": [
    "x = 'Hi Topmentor'  # Storing the String to the variable\n",
    "print(x)            # print the String which is stored in the variable x "
   ]
  },
  {
   "cell_type": "code",
   "execution_count": null,
   "id": "101d8dc6",
   "metadata": {},
   "outputs": [],
   "source": [
    "print(5+3)   # perform the addition operation then print the result\n",
    "print(12-4)  # perform the subtraction operation then print the result\n",
    "print(2*4)   # perform the multiplication operation then print the result\n",
    "print(16/2)  # perform the division operation then print the result"
   ]
  },
  {
   "cell_type": "code",
   "execution_count": null,
   "id": "e41b98f2",
   "metadata": {},
   "outputs": [],
   "source": [
    "# program means set of instructions, so computer takes instruction from user and perform the task.  "
   ]
  },
  {
   "cell_type": "code",
   "execution_count": null,
   "id": "5ae98dca",
   "metadata": {},
   "outputs": [],
   "source": [
    "# 9) Store the names of a few of your friends in a list called names. \n",
    "#    Print each person’s name by accessing each element in the list, one at a time. "
   ]
  },
  {
   "cell_type": "code",
   "execution_count": 10,
   "id": "8fbc0575",
   "metadata": {},
   "outputs": [
    {
     "name": "stdout",
     "output_type": "stream",
     "text": [
      "amar\n",
      "akbar\n",
      "anthony\n"
     ]
    }
   ],
   "source": [
    "name = ['amar', 'akbar', 'anthony']\n",
    "print(name[0])\n",
    "print(name[1])\n",
    "print(name[2])"
   ]
  },
  {
   "cell_type": "code",
   "execution_count": null,
   "id": "69d64107",
   "metadata": {},
   "outputs": [],
   "source": [
    "# 10) Start with the list you used in Exercise 9, but instead of just printing each person’s name, print a message to them. \n",
    "#     The text of each message should be the same, but each message should be personalized with the person’s name. "
   ]
  },
  {
   "cell_type": "code",
   "execution_count": 11,
   "id": "460a93e1",
   "metadata": {},
   "outputs": [
    {
     "name": "stdout",
     "output_type": "stream",
     "text": [
      "good morning  amar\n",
      "good morning  akbar\n",
      "good morning  anthony\n"
     ]
    }
   ],
   "source": [
    "name = ['amar', 'akbar', 'anthony']\n",
    "\n",
    "msg = \"good morning  \" +  name[0]\n",
    "print(msg)\n",
    "\n",
    "msg1 = \"good morning  \" +  name[1]\n",
    "print(msg1)\n",
    "\n",
    "msg2 = \"good morning  \" +  name[2]\n",
    "print(msg2)"
   ]
  },
  {
   "cell_type": "code",
   "execution_count": null,
   "id": "13628277",
   "metadata": {},
   "outputs": [],
   "source": [
    "# 11) Think of your favourite mode of transportation, such as a motorcycle or a car, and make a list that stores several examples.\n",
    "#    Use your list to print a series of statements about these items, such as “I would like to own a Honda motorcycle.” "
   ]
  },
  {
   "cell_type": "code",
   "execution_count": 13,
   "id": "51fb6c54",
   "metadata": {},
   "outputs": [
    {
     "name": "stdout",
     "output_type": "stream",
     "text": [
      "I go to work using  \"motor cycle\"\n",
      "I would like to own a  \"car\"\n",
      "I used to go by   \"train\"  to my relatives place\n",
      "I use  \"airplane\"  to travel abroad\n"
     ]
    }
   ],
   "source": [
    "fav_trans = ['\"motor cycle\"','\"car\"', '\"train\"', '\"airplane\"']\n",
    "print(\"I go to work using  \" + fav_trans[0])\n",
    "print(\"I would like to own a  \" + fav_trans[1])\n",
    "print(\"I used to go by   \" + fav_trans[2] + \"  to my relatives place\")\n",
    "print(\"I use  \" + fav_trans[3] + \"  to travel abroad\")\n"
   ]
  },
  {
   "cell_type": "code",
   "execution_count": null,
   "id": "7c54d97e",
   "metadata": {},
   "outputs": [],
   "source": []
  }
 ],
 "metadata": {
  "kernelspec": {
   "display_name": "Python 3 (ipykernel)",
   "language": "python",
   "name": "python3"
  },
  "language_info": {
   "codemirror_mode": {
    "name": "ipython",
    "version": 3
   },
   "file_extension": ".py",
   "mimetype": "text/x-python",
   "name": "python",
   "nbconvert_exporter": "python",
   "pygments_lexer": "ipython3",
   "version": "3.9.12"
  }
 },
 "nbformat": 4,
 "nbformat_minor": 5
}
